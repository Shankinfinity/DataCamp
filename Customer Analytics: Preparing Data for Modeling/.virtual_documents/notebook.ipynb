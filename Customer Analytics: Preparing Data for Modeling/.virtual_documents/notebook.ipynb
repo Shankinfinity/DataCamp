





# Import necessary libraries
import pandas as pd

# Load the dataset
ds_jobs = pd.read_csv("customer_train.csv")

# View the dataset
ds_jobs.head()


# Create a copy of ds_jobs for transforming
ds_jobs_transformed = ds_jobs.copy()

# Start coding here. Use as many cells as you like!
ds_jobs_transformed.shape


ds_jobs_transformed.info()



ds_jobs_transformed["city_development_index"] = ds_jobs_transformed["city_development_index"].astype("float16")
ds_jobs_transformed["job_change"] = ds_jobs_transformed["job_change"].astype("bool")


ds_jobs_transformed["student_id"] = ds_jobs_transformed["student_id"].astype("int32")
ds_jobs_transformed["training_hours"] = ds_jobs_transformed["training_hours"].astype("int32")


ds_jobs_transformed["gender"].value_counts(dropna=False)
ds_jobs_transformed["relevant_experience"].value_counts()


ds_jobs_transformed["gender"] = ds_jobs_transformed["gender"].astype("category")
ds_jobs_transformed["relevant_experience"] = ds_jobs_transformed["relevant_experience"].map({
    "Has relevant experience": True,
    "No relevant experience": False
})


nominal_cols = ["city", "enrolled_university", "major_discipline", "company_type"]
for col in nominal_cols:
    ds_jobs_transformed[col] = ds_jobs_transformed[col].astype("category")


print(ds_jobs_transformed["enrolled_university"].unique())


enroll_order = ["no_enrollment", "Part time course", "Full time course"]

ds_jobs_transformed["enrolled_university"] = pd.Categorical(
    ds_jobs_transformed["enrolled_university"],
    categories=enroll_order,
    ordered=True
)



edu_order = ["Primary School", "High School", "Graduate", "Masters", "Phd"]
ds_jobs_transformed["education_level"] = pd.Categorical(
    ds_jobs_transformed["education_level"],
    categories=edu_order,
    ordered=True
)


size_order = ["<10", "10/49", "50-99", "100-499", "500-999", "1000-4999", "5000-9999", "10000+"]
ds_jobs_transformed["company_size"] = pd.Categorical(
    ds_jobs_transformed["company_size"],
    categories=size_order,
    ordered=True
)


exp_order = ["<1"] + [str(i) for i in range(1, 21)] + [">20"]
ds_jobs_transformed["experience"] = pd.Categorical(
    ds_jobs_transformed["experience"],
    categories=exp_order,
    ordered=True
)


job_order = ["never", "1", "2", "3", "4", ">4"]
ds_jobs_transformed["last_new_job"] = pd.Categorical(
    ds_jobs_transformed["last_new_job"],
    categories=job_order,
    ordered=True
)


filtered = ds_jobs_transformed[
(ds_jobs_transformed["experience"] >= "10") &
(ds_jobs_transformed["company_size"] >= "1000-4999")
]


ds_jobs_transformed = filtered.copy()


ds_jobs_transformed.info(memory_usage="deep")
