


# Re-run this cell 
import pandas as pd

# Read in the data
schools = pd.read_csv("schools.csv")

# Preview the data
schools.head()

# Start coding here...
# Add as many cells as you like...


best_math = schools[schools["average_math"] >= 640].sort_values("average_math", ascending=False)
print(best_math.head())



best_math_schools = best_math.loc[: , ["school_name", "average_math"] ]
print(best_math_schools.head())
best_math_schools.shape


schools["total_SAT"] = schools["average_math"] + schools["average_reading"] + schools["average_writing"]
print(schools.head())


top_10_schools = schools.loc[:, ["school_name","total_SAT"]].sort_values("total_SAT", ascending=False).head(10)
print(top_10_schools)


import numpy as np
borough_stats = schools.groupby("borough")["total_SAT"].agg(
    num_schools='count',
    average_SAT=np.mean,
    std_SAT=np.std
).reset_index()
borough_stats[['average_SAT', 'std_SAT']] = borough_stats[['average_SAT', 'std_SAT']].round(2)
largest_std_dev = borough_stats.sort_values("std_SAT", ascending=False).head(1)
print(largest_std_dev)



