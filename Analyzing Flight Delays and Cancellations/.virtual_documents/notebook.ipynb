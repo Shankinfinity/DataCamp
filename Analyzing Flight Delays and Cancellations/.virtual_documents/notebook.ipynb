





# Import required libraries
import pandas as pd
import matplotlib.pyplot as plt

# Start your code here!


flights2022 = pd.read_csv('flights2022.csv')
flights_weather = pd.read_csv('flights_weather2022.csv')


flights2022.head()


flights2022.columns


flights_weather.head()


flights_weather.columns


flights2022["route"] = flights2022["origin"] + '-' + flights2022["dest"]



flights2022["route"] = flights2022["origin"] + "-" + flights2022["dest"]
routes_delays_cancels = (
    flights2022
    .groupby("route")
    .agg(
        mean_dep_delay=("dep_delay", "mean"),
        total_cancellations=("dep_time", lambda x: x.isna().sum())
    )
    .reset_index()
)
print(routes_delays_cancels)


top_routes_by_delay = routes_delays_cancels.sort_values("mean_dep_delay", ascending=False).head(9)
top_routes_by_cancellations = routes_delays_cancels.sort_values("total_cancellations", ascending=False).head(9)



airlines_delays_cancels = (
    flights2022
    .groupby("airline")
    .agg(
        mean_dep_delay=("dep_delay", "mean"),
        total_cancellations=("dep_time", lambda x: x.isna().sum())
    )
    .reset_index()
)

print(airlines_delays_cancels)


top_airlines_by_delay = airlines_delays_cancels.sort_values("mean_dep_delay", ascending=False).head(9)
top_airlines_by_cancellations = airlines_delays_cancels.sort_values("total_cancellations", ascending=False).head(9)


top9_route_cancels_bar, ax = plt.subplots()
ax.bar(top_routes_by_cancellations["route"], top_routes_by_cancellations["total_cancellations"])
ax.set_xlabel("Route")
ax.set_ylabel("Total Cancellations")
ax.set_title("Routes with Highest Number of Cancellations")
ax.set_xticklabels(top_routes_by_cancellations["route"], rotation=90)
plt.show()
plt.close()


top9_airline_delays_bar, ax = plt.subplots()
ax.bar(top_airlines_by_delay["airline"], top_airlines_by_delay["mean_dep_delay"])
ax.set_xlabel("Airline")
ax.set_ylabel("Mean Departure Delay")
ax.set_title("Airlines with Highest Mean Departure Delays")
ax.set_xticklabels(top_airlines_by_delay["airline"], rotation=90)
plt.show()


# Are departure delays impacted by 10+ mph winds from each airport
flights_weather["group"] = flights_weather["wind_gust"].apply(lambda x: ">= 10mph" if x >= 10 else "< 10 mph")
wind_grouped_data = flights_weather.groupby(["group", "origin"]).agg(
    mean_dep_delay=("dep_delay", "mean")
)

print(wind_grouped_data)

wind_response = True

