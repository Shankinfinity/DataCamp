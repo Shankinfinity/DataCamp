





# Importing pandas and matplotlib
import pandas as pd
import matplotlib.pyplot as plt

# Read in the Netflix CSV as a DataFrame
netflix_df = pd.read_csv("netflix_data.csv")


# Start coding here! Use as many cells as you like


netflix_df.head()


netflix_df.info


movies_only = netflix_df[netflix_df["type"] == "Movie"]
movies_only.head()


movies_only.info()
movies_only.shape



netflix_decade = movies_only[(movies_only["release_year"] >= 1990) & (movies_only["release_year"] <= 1999)]
netflix_decade.head()


netflix_decade.info()
netflix_decade.shape


duration = int(netflix_decade["duration"].mode()[0])
print(duration)


short_action_movie = netflix_decade[(netflix_decade["duration"] < 90) & (netflix_decade["genre"] == "Action")]
print(short_action_movie)


short_movie_count = len(short_action_movie)
print(short_movie_count)
