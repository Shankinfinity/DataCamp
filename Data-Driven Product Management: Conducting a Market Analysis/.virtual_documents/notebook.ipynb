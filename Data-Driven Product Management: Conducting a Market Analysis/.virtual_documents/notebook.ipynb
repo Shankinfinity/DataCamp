








# Import the necessary libraries
import pandas as pd
import matplotlib.pyplot as plt


# Start coding here
three_keywords_geo = pd.read_csv('data/three_keywords_geo.csv')
three_keywords = pd.read_csv('data/three_keywords.csv')
workout_geo = pd.read_csv('data/workout_geo.csv')
workout = pd.read_csv('data/workout.csv')


print(three_keywords_geo.head())
print(three_keywords.head())
print(workout_geo.head())
print(workout.head())


workout['month'] = pd.to_datetime(workout['month'])
workout.dtypes


import seaborn as sns
sns.lineplot(data=workout, x="month", y="workout_worldwide")
plt.show()
max_value = workout['workout_worldwide'].max()
peak_month = workout.loc[workout["workout_worldwide"].idxmax(), "month"]
year_str = str(peak_month.year)
print( "Max_value:",max_value)
print("Occured ar:", year_str)


three_keywords['month'] = pd.to_datetime(three_keywords['month'])
covid_period = three_keywords[(three_keywords['month'] >= "2020-01") & (three_keywords['month'] <= "2021-01")]
covid_peaks = covid_period[["home_workout_worldwide", "gym_workout_worldwide", "home_gym_worldwide"]].max()
peak_covid = covid_peaks.idxmax()
print(peak_covid)


latest_row = three_keywords[["home_workout_worldwide", "gym_workout_worldwide", "home_gym_worldwide"]].iloc[-1]
current = latest_row.idxmax()
print(current)



countries = ["United States", "Australia", "Japan"]

filtered = workout_geo[workout_geo["country"].isin(countries)]
top_country = filtered.loc[filtered["workout_2018_2023"].idxmax(), "country"]
print(top_country)



countries = ["Philippines", "Malaysia"]
filtered = three_keywords_geo[three_keywords_geo["Country"].isin(countries)]
home_workout_geo = filtered.loc[filtered["home_workout_2018_2023"].idxmax(), "Country"]
print("Country with higher home workout interest:", home_workout_geo)
