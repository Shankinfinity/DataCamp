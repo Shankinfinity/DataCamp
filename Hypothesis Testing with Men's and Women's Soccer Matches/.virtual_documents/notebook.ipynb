





# Start your code here!
import pandas as pd
from scipy import stats

men_results = pd.read_csv('men_results.csv')
women_results = pd.read_csv('women_results.csv')


men_results.head()


women_results.head()


men_results.dtypes


men_results['date'] = pd.to_datetime(men_results['date'])
women_results['date'] = pd.to_datetime(women_results['date'])



men_wc = men_results[(men_results['tournament'] == 'FIFA World Cup') & (men_results['date'] >= '2002-01-01')]
women_wc = women_results[(women_results['tournament'] == 'FIFA World Cup') & (women_results['date'] >= '2002-01-01')]


men_wc['total_goals'] = men_wc['home_score'] + men_wc['away_score']
women_wc['total_goals'] = women_wc['home_score'] + women_wc['away_score']


men_wc['total_goals'].hist()


women_wc['total_goals'].hist()


import pingouin

t_test_res = pingouin.mwu(
    x=women_wc['total_goals'],
    y=men_wc['total_goals'],
    alternative='greater'    
)
p_val = t_test_res['p-val'].values[0]
result = "reject" if p_val < 0.10 else "fail to reject"
result_dict = {"p_val": p_val, "result": result}
result_dict
