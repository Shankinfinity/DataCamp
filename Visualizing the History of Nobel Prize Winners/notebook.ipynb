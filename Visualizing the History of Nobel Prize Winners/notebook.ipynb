{
 "cells": [
  {
   "cell_type": "markdown",
   "id": "db5bd2ce-918a-4f7d-a927-a3ea74c4b456",
   "metadata": {},
   "source": [
    "The Nobel Prize has been among the most prestigious international awards since 1901. Each year, awards are bestowed in chemistry, literature, physics, physiology or medicine, economics, and peace. In addition to the honor, prestige, and substantial prize money, the recipient also gets a gold medal with an image of Alfred Nobel (1833 - 1896), who established the prize.\n",
    "\n",
    "![](Nobel_Prize.png)\n",
    "\n",
    "The Nobel Foundation has made a dataset available of all prize winners from the outset of the awards from 1901 to 2023. The dataset used in this project is from the Nobel Prize API and is available in the `nobel.csv` file in the `data` folder.\n",
    "\n",
    "In this project, you'll get a chance to explore and answer several questions related to this prizewinning data. And we encourage you then to explore further questions that you're interested in!"
   ]
  },
  {
   "cell_type": "code",
   "execution_count": 120,
   "id": "11fd5946-7bd1-495c-aa7f-ff6e7e4a350b",
   "metadata": {
    "executionCancelledAt": null,
    "executionTime": 47,
    "lastExecutedAt": 1754093945544,
    "lastExecutedByKernel": "7203906b-23a7-4456-8a69-97169788e04a",
    "lastScheduledRunId": null,
    "lastSuccessfullyExecutedCode": "# Loading in required libraries\nimport pandas as pd\nimport seaborn as sns\nimport numpy as np\n\n# Start coding here!"
   },
   "outputs": [],
   "source": [
    "# Loading in required libraries\n",
    "import pandas as pd\n",
    "import seaborn as sns\n",
    "import numpy as np\n",
    "\n",
    "# Start coding here!"
   ]
  },
  {
   "cell_type": "code",
   "execution_count": 121,
   "id": "fc7b3e34-e64f-4fdb-82b7-c7a2a08be183",
   "metadata": {
    "executionCancelledAt": null,
    "executionTime": 49,
    "lastExecutedAt": 1754093945593,
    "lastExecutedByKernel": "7203906b-23a7-4456-8a69-97169788e04a",
    "lastScheduledRunId": null,
    "lastSuccessfullyExecutedCode": "import pandas as pd\nnobel = pd.read_csv('data/nobel.csv')\nnobel.head()",
    "outputsMetadata": {
     "0": {
      "height": 501,
      "tableState": {},
      "type": "dataFrame"
     }
    }
   },
   "outputs": [
    {
     "data": {
      "application/com.datacamp.data-table.v2+json": {
       "table": {
        "data": {
         "birth_city": [
          "Rotterdam",
          "Paris",
          "Hansdorf (Lawice)",
          "Geneva",
          "Paris"
         ],
         "birth_country": [
          "Netherlands",
          "France",
          "Prussia (Poland)",
          "Switzerland",
          "France"
         ],
         "birth_date": [
          "1852-08-30",
          "1839-03-16",
          "1854-03-15",
          "1828-05-08",
          "1822-05-20"
         ],
         "category": [
          "Chemistry",
          "Literature",
          "Medicine",
          "Peace",
          "Peace"
         ],
         "death_city": [
          "Berlin",
          "Châtenay",
          "Marburg",
          "Heiden",
          "Paris"
         ],
         "death_country": [
          "Germany",
          "France",
          "Germany",
          "Switzerland",
          "France"
         ],
         "death_date": [
          "1911-03-01",
          "1907-09-07",
          "1917-03-31",
          "1910-10-30",
          "1912-06-12"
         ],
         "full_name": [
          "Jacobus Henricus van 't Hoff",
          "Sully Prudhomme",
          "Emil Adolf von Behring",
          "Jean Henry Dunant",
          "Frédéric Passy"
         ],
         "index": [
          0,
          1,
          2,
          3,
          4
         ],
         "laureate_id": [
          160,
          569,
          293,
          462,
          463
         ],
         "laureate_type": [
          "Individual",
          "Individual",
          "Individual",
          "Individual",
          "Individual"
         ],
         "motivation": [
          "\"in recognition of the extraordinary services he has rendered by the discovery of the laws of chemical dynamics and osmotic pressure in solutions\"",
          "\"in special recognition of his poetic composition, which gives evidence of lofty idealism, artistic perfection and a rare combination of the qualities of both heart and intellect\"",
          "\"for his work on serum therapy, especially its application against diphtheria, by which he has opened a new road in the domain of medical science and thereby placed in the hands of the physician a victorious weapon against illness and deaths\"",
          null,
          null
         ],
         "organization_city": [
          "Berlin",
          null,
          "Marburg",
          null,
          null
         ],
         "organization_country": [
          "Germany",
          null,
          "Germany",
          null,
          null
         ],
         "organization_name": [
          "Berlin University",
          null,
          "Marburg University",
          null,
          null
         ],
         "prize": [
          "The Nobel Prize in Chemistry 1901",
          "The Nobel Prize in Literature 1901",
          "The Nobel Prize in Physiology or Medicine 1901",
          "The Nobel Peace Prize 1901",
          "The Nobel Peace Prize 1901"
         ],
         "prize_share": [
          "1/1",
          "1/1",
          "1/1",
          "1/2",
          "1/2"
         ],
         "sex": [
          "Male",
          "Male",
          "Male",
          "Male",
          "Male"
         ],
         "year": [
          1901,
          1901,
          1901,
          1901,
          1901
         ]
        },
        "schema": {
         "fields": [
          {
           "name": "index",
           "type": "integer"
          },
          {
           "name": "year",
           "type": "integer"
          },
          {
           "name": "category",
           "type": "string"
          },
          {
           "name": "prize",
           "type": "string"
          },
          {
           "name": "motivation",
           "type": "string"
          },
          {
           "name": "prize_share",
           "type": "string"
          },
          {
           "name": "laureate_id",
           "type": "integer"
          },
          {
           "name": "laureate_type",
           "type": "string"
          },
          {
           "name": "full_name",
           "type": "string"
          },
          {
           "name": "birth_date",
           "type": "string"
          },
          {
           "name": "birth_city",
           "type": "string"
          },
          {
           "name": "birth_country",
           "type": "string"
          },
          {
           "name": "sex",
           "type": "string"
          },
          {
           "name": "organization_name",
           "type": "string"
          },
          {
           "name": "organization_city",
           "type": "string"
          },
          {
           "name": "organization_country",
           "type": "string"
          },
          {
           "name": "death_date",
           "type": "string"
          },
          {
           "name": "death_city",
           "type": "string"
          },
          {
           "name": "death_country",
           "type": "string"
          }
         ],
         "pandas_version": "1.4.0",
         "primaryKey": [
          "index"
         ]
        }
       },
       "total_rows": 5,
       "truncation_type": null
      },
      "text/html": [
       "<div>\n",
       "<style scoped>\n",
       "    .dataframe tbody tr th:only-of-type {\n",
       "        vertical-align: middle;\n",
       "    }\n",
       "\n",
       "    .dataframe tbody tr th {\n",
       "        vertical-align: top;\n",
       "    }\n",
       "\n",
       "    .dataframe thead th {\n",
       "        text-align: right;\n",
       "    }\n",
       "</style>\n",
       "<table border=\"1\" class=\"dataframe\">\n",
       "  <thead>\n",
       "    <tr style=\"text-align: right;\">\n",
       "      <th></th>\n",
       "      <th>year</th>\n",
       "      <th>category</th>\n",
       "      <th>prize</th>\n",
       "      <th>motivation</th>\n",
       "      <th>prize_share</th>\n",
       "      <th>laureate_id</th>\n",
       "      <th>laureate_type</th>\n",
       "      <th>full_name</th>\n",
       "      <th>birth_date</th>\n",
       "      <th>birth_city</th>\n",
       "      <th>birth_country</th>\n",
       "      <th>sex</th>\n",
       "      <th>organization_name</th>\n",
       "      <th>organization_city</th>\n",
       "      <th>organization_country</th>\n",
       "      <th>death_date</th>\n",
       "      <th>death_city</th>\n",
       "      <th>death_country</th>\n",
       "    </tr>\n",
       "  </thead>\n",
       "  <tbody>\n",
       "    <tr>\n",
       "      <th>0</th>\n",
       "      <td>1901</td>\n",
       "      <td>Chemistry</td>\n",
       "      <td>The Nobel Prize in Chemistry 1901</td>\n",
       "      <td>\"in recognition of the extraordinary services ...</td>\n",
       "      <td>1/1</td>\n",
       "      <td>160</td>\n",
       "      <td>Individual</td>\n",
       "      <td>Jacobus Henricus van 't Hoff</td>\n",
       "      <td>1852-08-30</td>\n",
       "      <td>Rotterdam</td>\n",
       "      <td>Netherlands</td>\n",
       "      <td>Male</td>\n",
       "      <td>Berlin University</td>\n",
       "      <td>Berlin</td>\n",
       "      <td>Germany</td>\n",
       "      <td>1911-03-01</td>\n",
       "      <td>Berlin</td>\n",
       "      <td>Germany</td>\n",
       "    </tr>\n",
       "    <tr>\n",
       "      <th>1</th>\n",
       "      <td>1901</td>\n",
       "      <td>Literature</td>\n",
       "      <td>The Nobel Prize in Literature 1901</td>\n",
       "      <td>\"in special recognition of his poetic composit...</td>\n",
       "      <td>1/1</td>\n",
       "      <td>569</td>\n",
       "      <td>Individual</td>\n",
       "      <td>Sully Prudhomme</td>\n",
       "      <td>1839-03-16</td>\n",
       "      <td>Paris</td>\n",
       "      <td>France</td>\n",
       "      <td>Male</td>\n",
       "      <td>NaN</td>\n",
       "      <td>NaN</td>\n",
       "      <td>NaN</td>\n",
       "      <td>1907-09-07</td>\n",
       "      <td>Châtenay</td>\n",
       "      <td>France</td>\n",
       "    </tr>\n",
       "    <tr>\n",
       "      <th>2</th>\n",
       "      <td>1901</td>\n",
       "      <td>Medicine</td>\n",
       "      <td>The Nobel Prize in Physiology or Medicine 1901</td>\n",
       "      <td>\"for his work on serum therapy, especially its...</td>\n",
       "      <td>1/1</td>\n",
       "      <td>293</td>\n",
       "      <td>Individual</td>\n",
       "      <td>Emil Adolf von Behring</td>\n",
       "      <td>1854-03-15</td>\n",
       "      <td>Hansdorf (Lawice)</td>\n",
       "      <td>Prussia (Poland)</td>\n",
       "      <td>Male</td>\n",
       "      <td>Marburg University</td>\n",
       "      <td>Marburg</td>\n",
       "      <td>Germany</td>\n",
       "      <td>1917-03-31</td>\n",
       "      <td>Marburg</td>\n",
       "      <td>Germany</td>\n",
       "    </tr>\n",
       "    <tr>\n",
       "      <th>3</th>\n",
       "      <td>1901</td>\n",
       "      <td>Peace</td>\n",
       "      <td>The Nobel Peace Prize 1901</td>\n",
       "      <td>NaN</td>\n",
       "      <td>1/2</td>\n",
       "      <td>462</td>\n",
       "      <td>Individual</td>\n",
       "      <td>Jean Henry Dunant</td>\n",
       "      <td>1828-05-08</td>\n",
       "      <td>Geneva</td>\n",
       "      <td>Switzerland</td>\n",
       "      <td>Male</td>\n",
       "      <td>NaN</td>\n",
       "      <td>NaN</td>\n",
       "      <td>NaN</td>\n",
       "      <td>1910-10-30</td>\n",
       "      <td>Heiden</td>\n",
       "      <td>Switzerland</td>\n",
       "    </tr>\n",
       "    <tr>\n",
       "      <th>4</th>\n",
       "      <td>1901</td>\n",
       "      <td>Peace</td>\n",
       "      <td>The Nobel Peace Prize 1901</td>\n",
       "      <td>NaN</td>\n",
       "      <td>1/2</td>\n",
       "      <td>463</td>\n",
       "      <td>Individual</td>\n",
       "      <td>Frédéric Passy</td>\n",
       "      <td>1822-05-20</td>\n",
       "      <td>Paris</td>\n",
       "      <td>France</td>\n",
       "      <td>Male</td>\n",
       "      <td>NaN</td>\n",
       "      <td>NaN</td>\n",
       "      <td>NaN</td>\n",
       "      <td>1912-06-12</td>\n",
       "      <td>Paris</td>\n",
       "      <td>France</td>\n",
       "    </tr>\n",
       "  </tbody>\n",
       "</table>\n",
       "</div>"
      ],
      "text/plain": [
       "   year    category  ... death_city death_country\n",
       "0  1901   Chemistry  ...     Berlin       Germany\n",
       "1  1901  Literature  ...   Châtenay        France\n",
       "2  1901    Medicine  ...    Marburg       Germany\n",
       "3  1901       Peace  ...     Heiden   Switzerland\n",
       "4  1901       Peace  ...      Paris        France\n",
       "\n",
       "[5 rows x 18 columns]"
      ]
     },
     "execution_count": 121,
     "metadata": {
      "application/com.datacamp.data-table.v2+json": {
       "status": "success"
      }
     },
     "output_type": "execute_result"
    }
   ],
   "source": [
    "import pandas as pd\n",
    "nobel = pd.read_csv('nobel.csv')\n",
    "nobel.head()"
   ]
  },
  {
   "cell_type": "code",
   "execution_count": 122,
   "id": "dd7e9ef6-adce-440e-8450-0b1dd3e0f32e",
   "metadata": {
    "executionCancelledAt": null,
    "executionTime": 48,
    "lastExecutedAt": 1754093945641,
    "lastExecutedByKernel": "7203906b-23a7-4456-8a69-97169788e04a",
    "lastScheduledRunId": null,
    "lastSuccessfullyExecutedCode": "nobel.shape"
   },
   "outputs": [
    {
     "data": {
      "text/plain": [
       "(1000, 18)"
      ]
     },
     "execution_count": 122,
     "metadata": {},
     "output_type": "execute_result"
    }
   ],
   "source": [
    "nobel.shape"
   ]
  },
  {
   "cell_type": "code",
   "execution_count": 123,
   "id": "18bd7712-19a0-4d57-a6d8-efdfb8be5e52",
   "metadata": {
    "executionCancelledAt": null,
    "executionTime": 53,
    "lastExecutedAt": 1754093945694,
    "lastExecutedByKernel": "7203906b-23a7-4456-8a69-97169788e04a",
    "lastScheduledRunId": null,
    "lastSuccessfullyExecutedCode": "nobel.columns"
   },
   "outputs": [
    {
     "data": {
      "text/plain": [
       "Index(['year', 'category', 'prize', 'motivation', 'prize_share', 'laureate_id',\n",
       "       'laureate_type', 'full_name', 'birth_date', 'birth_city',\n",
       "       'birth_country', 'sex', 'organization_name', 'organization_city',\n",
       "       'organization_country', 'death_date', 'death_city', 'death_country'],\n",
       "      dtype='object')"
      ]
     },
     "execution_count": 123,
     "metadata": {},
     "output_type": "execute_result"
    }
   ],
   "source": [
    "nobel.columns"
   ]
  },
  {
   "cell_type": "code",
   "execution_count": 124,
   "id": "d13ee88b-123b-4242-a370-f8c420e528dd",
   "metadata": {
    "executionCancelledAt": null,
    "executionTime": 63,
    "lastExecutedAt": 1754093945757,
    "lastExecutedByKernel": "7203906b-23a7-4456-8a69-97169788e04a",
    "lastScheduledRunId": null,
    "lastSuccessfullyExecutedCode": "single_individuals = nobel[nobel[\"laureate_type\"] == \"Individual\"]\nsingle_individuals.head(10)",
    "outputsMetadata": {
     "0": {
      "height": 501,
      "tableState": {},
      "type": "dataFrame"
     }
    }
   },
   "outputs": [
    {
     "data": {
      "application/com.datacamp.data-table.v2+json": {
       "table": {
        "data": {
         "birth_city": [
          "Rotterdam",
          "Paris",
          "Hansdorf (Lawice)",
          "Geneva",
          "Paris",
          "Lennep (Remscheid)",
          "Euskirchen",
          "Garding",
          "Almora",
          "Geneva"
         ],
         "birth_country": [
          "Netherlands",
          "France",
          "Prussia (Poland)",
          "Switzerland",
          "France",
          "Prussia (Germany)",
          "Prussia (Germany)",
          "Schleswig (Germany)",
          "India",
          "Switzerland"
         ],
         "birth_date": [
          "1852-08-30",
          "1839-03-16",
          "1854-03-15",
          "1828-05-08",
          "1822-05-20",
          "1845-03-27",
          "1852-10-09",
          "1817-11-30",
          "1857-05-13",
          "1833-02-19"
         ],
         "category": [
          "Chemistry",
          "Literature",
          "Medicine",
          "Peace",
          "Peace",
          "Physics",
          "Chemistry",
          "Literature",
          "Medicine",
          "Peace"
         ],
         "death_city": [
          "Berlin",
          "Châtenay",
          "Marburg",
          "Heiden",
          "Paris",
          "Munich",
          "Berlin",
          "Charlottenburg",
          "Putney Heath",
          "Bern"
         ],
         "death_country": [
          "Germany",
          "France",
          "Germany",
          "Switzerland",
          "France",
          "Germany",
          "Germany",
          "Germany",
          "United Kingdom",
          "Switzerland"
         ],
         "death_date": [
          "1911-03-01",
          "1907-09-07",
          "1917-03-31",
          "1910-10-30",
          "1912-06-12",
          "1923-02-10",
          "1919-07-15",
          "1903-11-01",
          "1932-09-16",
          "1906-12-07"
         ],
         "full_name": [
          "Jacobus Henricus van 't Hoff",
          "Sully Prudhomme",
          "Emil Adolf von Behring",
          "Jean Henry Dunant",
          "Frédéric Passy",
          "Wilhelm Conrad Röntgen",
          "Hermann Emil Fischer",
          "Christian Matthias Theodor Mommsen",
          "Ronald Ross",
          "Élie Ducommun"
         ],
         "index": [
          0,
          1,
          2,
          3,
          4,
          5,
          6,
          7,
          8,
          9
         ],
         "laureate_id": [
          160,
          569,
          293,
          462,
          463,
          1,
          161,
          571,
          294,
          464
         ],
         "laureate_type": [
          "Individual",
          "Individual",
          "Individual",
          "Individual",
          "Individual",
          "Individual",
          "Individual",
          "Individual",
          "Individual",
          "Individual"
         ],
         "motivation": [
          "\"in recognition of the extraordinary services he has rendered by the discovery of the laws of chemical dynamics and osmotic pressure in solutions\"",
          "\"in special recognition of his poetic composition, which gives evidence of lofty idealism, artistic perfection and a rare combination of the qualities of both heart and intellect\"",
          "\"for his work on serum therapy, especially its application against diphtheria, by which he has opened a new road in the domain of medical science and thereby placed in the hands of the physician a victorious weapon against illness and deaths\"",
          null,
          null,
          "\"in recognition of the extraordinary services he has rendered by the discovery of the remarkable rays subsequently named after him\"",
          "\"in recognition of the extraordinary services he has rendered by his work on sugar and purine syntheses\"",
          "\"the greatest living master of the art of historical writing, with special reference to his monumental work, <I>A history of Rome</I>\"",
          "\"for his work on malaria, by which he has shown how it enters the organism and thereby has laid the foundation for successful research on this disease and methods of combating it\"",
          null
         ],
         "organization_city": [
          "Berlin",
          null,
          "Marburg",
          null,
          null,
          "Munich",
          "Berlin",
          null,
          "Liverpool",
          null
         ],
         "organization_country": [
          "Germany",
          null,
          "Germany",
          null,
          null,
          "Germany",
          "Germany",
          null,
          "United Kingdom",
          null
         ],
         "organization_name": [
          "Berlin University",
          null,
          "Marburg University",
          null,
          null,
          "Munich University",
          "Berlin University",
          null,
          "University College",
          null
         ],
         "prize": [
          "The Nobel Prize in Chemistry 1901",
          "The Nobel Prize in Literature 1901",
          "The Nobel Prize in Physiology or Medicine 1901",
          "The Nobel Peace Prize 1901",
          "The Nobel Peace Prize 1901",
          "The Nobel Prize in Physics 1901",
          "The Nobel Prize in Chemistry 1902",
          "The Nobel Prize in Literature 1902",
          "The Nobel Prize in Physiology or Medicine 1902",
          "The Nobel Peace Prize 1902"
         ],
         "prize_share": [
          "1/1",
          "1/1",
          "1/1",
          "1/2",
          "1/2",
          "1/1",
          "1/1",
          "1/1",
          "1/1",
          "1/2"
         ],
         "sex": [
          "Male",
          "Male",
          "Male",
          "Male",
          "Male",
          "Male",
          "Male",
          "Male",
          "Male",
          "Male"
         ],
         "year": [
          1901,
          1901,
          1901,
          1901,
          1901,
          1901,
          1902,
          1902,
          1902,
          1902
         ]
        },
        "schema": {
         "fields": [
          {
           "name": "index",
           "type": "integer"
          },
          {
           "name": "year",
           "type": "integer"
          },
          {
           "name": "category",
           "type": "string"
          },
          {
           "name": "prize",
           "type": "string"
          },
          {
           "name": "motivation",
           "type": "string"
          },
          {
           "name": "prize_share",
           "type": "string"
          },
          {
           "name": "laureate_id",
           "type": "integer"
          },
          {
           "name": "laureate_type",
           "type": "string"
          },
          {
           "name": "full_name",
           "type": "string"
          },
          {
           "name": "birth_date",
           "type": "string"
          },
          {
           "name": "birth_city",
           "type": "string"
          },
          {
           "name": "birth_country",
           "type": "string"
          },
          {
           "name": "sex",
           "type": "string"
          },
          {
           "name": "organization_name",
           "type": "string"
          },
          {
           "name": "organization_city",
           "type": "string"
          },
          {
           "name": "organization_country",
           "type": "string"
          },
          {
           "name": "death_date",
           "type": "string"
          },
          {
           "name": "death_city",
           "type": "string"
          },
          {
           "name": "death_country",
           "type": "string"
          }
         ],
         "pandas_version": "1.4.0",
         "primaryKey": [
          "index"
         ]
        }
       },
       "total_rows": 10,
       "truncation_type": null
      },
      "text/html": [
       "<div>\n",
       "<style scoped>\n",
       "    .dataframe tbody tr th:only-of-type {\n",
       "        vertical-align: middle;\n",
       "    }\n",
       "\n",
       "    .dataframe tbody tr th {\n",
       "        vertical-align: top;\n",
       "    }\n",
       "\n",
       "    .dataframe thead th {\n",
       "        text-align: right;\n",
       "    }\n",
       "</style>\n",
       "<table border=\"1\" class=\"dataframe\">\n",
       "  <thead>\n",
       "    <tr style=\"text-align: right;\">\n",
       "      <th></th>\n",
       "      <th>year</th>\n",
       "      <th>category</th>\n",
       "      <th>prize</th>\n",
       "      <th>motivation</th>\n",
       "      <th>prize_share</th>\n",
       "      <th>laureate_id</th>\n",
       "      <th>laureate_type</th>\n",
       "      <th>full_name</th>\n",
       "      <th>birth_date</th>\n",
       "      <th>birth_city</th>\n",
       "      <th>birth_country</th>\n",
       "      <th>sex</th>\n",
       "      <th>organization_name</th>\n",
       "      <th>organization_city</th>\n",
       "      <th>organization_country</th>\n",
       "      <th>death_date</th>\n",
       "      <th>death_city</th>\n",
       "      <th>death_country</th>\n",
       "    </tr>\n",
       "  </thead>\n",
       "  <tbody>\n",
       "    <tr>\n",
       "      <th>0</th>\n",
       "      <td>1901</td>\n",
       "      <td>Chemistry</td>\n",
       "      <td>The Nobel Prize in Chemistry 1901</td>\n",
       "      <td>\"in recognition of the extraordinary services ...</td>\n",
       "      <td>1/1</td>\n",
       "      <td>160</td>\n",
       "      <td>Individual</td>\n",
       "      <td>Jacobus Henricus van 't Hoff</td>\n",
       "      <td>1852-08-30</td>\n",
       "      <td>Rotterdam</td>\n",
       "      <td>Netherlands</td>\n",
       "      <td>Male</td>\n",
       "      <td>Berlin University</td>\n",
       "      <td>Berlin</td>\n",
       "      <td>Germany</td>\n",
       "      <td>1911-03-01</td>\n",
       "      <td>Berlin</td>\n",
       "      <td>Germany</td>\n",
       "    </tr>\n",
       "    <tr>\n",
       "      <th>1</th>\n",
       "      <td>1901</td>\n",
       "      <td>Literature</td>\n",
       "      <td>The Nobel Prize in Literature 1901</td>\n",
       "      <td>\"in special recognition of his poetic composit...</td>\n",
       "      <td>1/1</td>\n",
       "      <td>569</td>\n",
       "      <td>Individual</td>\n",
       "      <td>Sully Prudhomme</td>\n",
       "      <td>1839-03-16</td>\n",
       "      <td>Paris</td>\n",
       "      <td>France</td>\n",
       "      <td>Male</td>\n",
       "      <td>NaN</td>\n",
       "      <td>NaN</td>\n",
       "      <td>NaN</td>\n",
       "      <td>1907-09-07</td>\n",
       "      <td>Châtenay</td>\n",
       "      <td>France</td>\n",
       "    </tr>\n",
       "    <tr>\n",
       "      <th>2</th>\n",
       "      <td>1901</td>\n",
       "      <td>Medicine</td>\n",
       "      <td>The Nobel Prize in Physiology or Medicine 1901</td>\n",
       "      <td>\"for his work on serum therapy, especially its...</td>\n",
       "      <td>1/1</td>\n",
       "      <td>293</td>\n",
       "      <td>Individual</td>\n",
       "      <td>Emil Adolf von Behring</td>\n",
       "      <td>1854-03-15</td>\n",
       "      <td>Hansdorf (Lawice)</td>\n",
       "      <td>Prussia (Poland)</td>\n",
       "      <td>Male</td>\n",
       "      <td>Marburg University</td>\n",
       "      <td>Marburg</td>\n",
       "      <td>Germany</td>\n",
       "      <td>1917-03-31</td>\n",
       "      <td>Marburg</td>\n",
       "      <td>Germany</td>\n",
       "    </tr>\n",
       "    <tr>\n",
       "      <th>3</th>\n",
       "      <td>1901</td>\n",
       "      <td>Peace</td>\n",
       "      <td>The Nobel Peace Prize 1901</td>\n",
       "      <td>NaN</td>\n",
       "      <td>1/2</td>\n",
       "      <td>462</td>\n",
       "      <td>Individual</td>\n",
       "      <td>Jean Henry Dunant</td>\n",
       "      <td>1828-05-08</td>\n",
       "      <td>Geneva</td>\n",
       "      <td>Switzerland</td>\n",
       "      <td>Male</td>\n",
       "      <td>NaN</td>\n",
       "      <td>NaN</td>\n",
       "      <td>NaN</td>\n",
       "      <td>1910-10-30</td>\n",
       "      <td>Heiden</td>\n",
       "      <td>Switzerland</td>\n",
       "    </tr>\n",
       "    <tr>\n",
       "      <th>4</th>\n",
       "      <td>1901</td>\n",
       "      <td>Peace</td>\n",
       "      <td>The Nobel Peace Prize 1901</td>\n",
       "      <td>NaN</td>\n",
       "      <td>1/2</td>\n",
       "      <td>463</td>\n",
       "      <td>Individual</td>\n",
       "      <td>Frédéric Passy</td>\n",
       "      <td>1822-05-20</td>\n",
       "      <td>Paris</td>\n",
       "      <td>France</td>\n",
       "      <td>Male</td>\n",
       "      <td>NaN</td>\n",
       "      <td>NaN</td>\n",
       "      <td>NaN</td>\n",
       "      <td>1912-06-12</td>\n",
       "      <td>Paris</td>\n",
       "      <td>France</td>\n",
       "    </tr>\n",
       "    <tr>\n",
       "      <th>5</th>\n",
       "      <td>1901</td>\n",
       "      <td>Physics</td>\n",
       "      <td>The Nobel Prize in Physics 1901</td>\n",
       "      <td>\"in recognition of the extraordinary services ...</td>\n",
       "      <td>1/1</td>\n",
       "      <td>1</td>\n",
       "      <td>Individual</td>\n",
       "      <td>Wilhelm Conrad Röntgen</td>\n",
       "      <td>1845-03-27</td>\n",
       "      <td>Lennep (Remscheid)</td>\n",
       "      <td>Prussia (Germany)</td>\n",
       "      <td>Male</td>\n",
       "      <td>Munich University</td>\n",
       "      <td>Munich</td>\n",
       "      <td>Germany</td>\n",
       "      <td>1923-02-10</td>\n",
       "      <td>Munich</td>\n",
       "      <td>Germany</td>\n",
       "    </tr>\n",
       "    <tr>\n",
       "      <th>6</th>\n",
       "      <td>1902</td>\n",
       "      <td>Chemistry</td>\n",
       "      <td>The Nobel Prize in Chemistry 1902</td>\n",
       "      <td>\"in recognition of the extraordinary services ...</td>\n",
       "      <td>1/1</td>\n",
       "      <td>161</td>\n",
       "      <td>Individual</td>\n",
       "      <td>Hermann Emil Fischer</td>\n",
       "      <td>1852-10-09</td>\n",
       "      <td>Euskirchen</td>\n",
       "      <td>Prussia (Germany)</td>\n",
       "      <td>Male</td>\n",
       "      <td>Berlin University</td>\n",
       "      <td>Berlin</td>\n",
       "      <td>Germany</td>\n",
       "      <td>1919-07-15</td>\n",
       "      <td>Berlin</td>\n",
       "      <td>Germany</td>\n",
       "    </tr>\n",
       "    <tr>\n",
       "      <th>7</th>\n",
       "      <td>1902</td>\n",
       "      <td>Literature</td>\n",
       "      <td>The Nobel Prize in Literature 1902</td>\n",
       "      <td>\"the greatest living master of the art of hist...</td>\n",
       "      <td>1/1</td>\n",
       "      <td>571</td>\n",
       "      <td>Individual</td>\n",
       "      <td>Christian Matthias Theodor Mommsen</td>\n",
       "      <td>1817-11-30</td>\n",
       "      <td>Garding</td>\n",
       "      <td>Schleswig (Germany)</td>\n",
       "      <td>Male</td>\n",
       "      <td>NaN</td>\n",
       "      <td>NaN</td>\n",
       "      <td>NaN</td>\n",
       "      <td>1903-11-01</td>\n",
       "      <td>Charlottenburg</td>\n",
       "      <td>Germany</td>\n",
       "    </tr>\n",
       "    <tr>\n",
       "      <th>8</th>\n",
       "      <td>1902</td>\n",
       "      <td>Medicine</td>\n",
       "      <td>The Nobel Prize in Physiology or Medicine 1902</td>\n",
       "      <td>\"for his work on malaria, by which he has show...</td>\n",
       "      <td>1/1</td>\n",
       "      <td>294</td>\n",
       "      <td>Individual</td>\n",
       "      <td>Ronald Ross</td>\n",
       "      <td>1857-05-13</td>\n",
       "      <td>Almora</td>\n",
       "      <td>India</td>\n",
       "      <td>Male</td>\n",
       "      <td>University College</td>\n",
       "      <td>Liverpool</td>\n",
       "      <td>United Kingdom</td>\n",
       "      <td>1932-09-16</td>\n",
       "      <td>Putney Heath</td>\n",
       "      <td>United Kingdom</td>\n",
       "    </tr>\n",
       "    <tr>\n",
       "      <th>9</th>\n",
       "      <td>1902</td>\n",
       "      <td>Peace</td>\n",
       "      <td>The Nobel Peace Prize 1902</td>\n",
       "      <td>NaN</td>\n",
       "      <td>1/2</td>\n",
       "      <td>464</td>\n",
       "      <td>Individual</td>\n",
       "      <td>Élie Ducommun</td>\n",
       "      <td>1833-02-19</td>\n",
       "      <td>Geneva</td>\n",
       "      <td>Switzerland</td>\n",
       "      <td>Male</td>\n",
       "      <td>NaN</td>\n",
       "      <td>NaN</td>\n",
       "      <td>NaN</td>\n",
       "      <td>1906-12-07</td>\n",
       "      <td>Bern</td>\n",
       "      <td>Switzerland</td>\n",
       "    </tr>\n",
       "  </tbody>\n",
       "</table>\n",
       "</div>"
      ],
      "text/plain": [
       "   year    category  ...      death_city   death_country\n",
       "0  1901   Chemistry  ...          Berlin         Germany\n",
       "1  1901  Literature  ...        Châtenay          France\n",
       "2  1901    Medicine  ...         Marburg         Germany\n",
       "3  1901       Peace  ...          Heiden     Switzerland\n",
       "4  1901       Peace  ...           Paris          France\n",
       "5  1901     Physics  ...          Munich         Germany\n",
       "6  1902   Chemistry  ...          Berlin         Germany\n",
       "7  1902  Literature  ...  Charlottenburg         Germany\n",
       "8  1902    Medicine  ...    Putney Heath  United Kingdom\n",
       "9  1902       Peace  ...            Bern     Switzerland\n",
       "\n",
       "[10 rows x 18 columns]"
      ]
     },
     "execution_count": 124,
     "metadata": {
      "application/com.datacamp.data-table.v2+json": {
       "status": "success"
      }
     },
     "output_type": "execute_result"
    }
   ],
   "source": [
    "single_individuals = nobel[nobel[\"laureate_type\"] == \"Individual\"]\n",
    "single_individuals.head(10)"
   ]
  },
  {
   "cell_type": "code",
   "execution_count": 125,
   "id": "63f0f35a-b9dd-4ed6-9b6a-6a5932d84062",
   "metadata": {
    "executionCancelledAt": null,
    "executionTime": 51,
    "lastExecutedAt": 1754093945808,
    "lastExecutedByKernel": "7203906b-23a7-4456-8a69-97169788e04a",
    "lastScheduledRunId": null,
    "lastSuccessfullyExecutedCode": "top_gender = single_individuals[\"sex\"].value_counts().idxmax()\nprint(top_gender)",
    "outputsMetadata": {
     "0": {
      "height": 83,
      "type": "stream"
     }
    }
   },
   "outputs": [
    {
     "name": "stdout",
     "output_type": "stream",
     "text": [
      "Male\n"
     ]
    }
   ],
   "source": [
    "top_gender = single_individuals[\"sex\"].value_counts().idxmax()\n",
    "print(top_gender)"
   ]
  },
  {
   "cell_type": "code",
   "execution_count": 126,
   "id": "d97adc0d-0de7-4375-ab55-054e3b87aa0e",
   "metadata": {
    "executionCancelledAt": null,
    "executionTime": 47,
    "lastExecutedAt": 1754093945855,
    "lastExecutedByKernel": "7203906b-23a7-4456-8a69-97169788e04a",
    "lastScheduledRunId": null,
    "lastSuccessfullyExecutedCode": "top_country = nobel[\"birth_country\"].value_counts().idxmax()\nprint(top_country)",
    "outputsMetadata": {
     "0": {
      "height": 281,
      "type": "stream"
     }
    }
   },
   "outputs": [
    {
     "name": "stdout",
     "output_type": "stream",
     "text": [
      "United States of America\n"
     ]
    }
   ],
   "source": [
    "top_country = nobel[\"birth_country\"].value_counts().idxmax()\n",
    "print(top_country)"
   ]
  },
  {
   "cell_type": "code",
   "execution_count": 127,
   "id": "16dcf30c-aaa9-4f2a-88ff-6c7d23205c4e",
   "metadata": {
    "executionCancelledAt": null,
    "executionTime": 70,
    "lastExecutedAt": 1754093945925,
    "lastExecutedByKernel": "7203906b-23a7-4456-8a69-97169788e04a",
    "lastScheduledRunId": null,
    "lastSuccessfullyExecutedCode": "nobel[\"decade\"] = (nobel[\"year\"] // 10) * 10\nprint(nobel.head())",
    "outputsMetadata": {
     "0": {
      "height": 500,
      "tableState": {},
      "type": "dataFrame"
     }
    }
   },
   "outputs": [
    {
     "name": "stdout",
     "output_type": "stream",
     "text": [
      "   year    category  ... death_country decade\n",
      "0  1901   Chemistry  ...       Germany   1900\n",
      "1  1901  Literature  ...        France   1900\n",
      "2  1901    Medicine  ...       Germany   1900\n",
      "3  1901       Peace  ...   Switzerland   1900\n",
      "4  1901       Peace  ...        France   1900\n",
      "\n",
      "[5 rows x 19 columns]\n"
     ]
    }
   ],
   "source": [
    "nobel[\"decade\"] = (nobel[\"year\"] // 10) * 10\n",
    "print(nobel.head())"
   ]
  },
  {
   "cell_type": "code",
   "execution_count": 128,
   "id": "2f6592b8-57f3-467d-9fd1-a93e2d813f11",
   "metadata": {
    "executionCancelledAt": null,
    "executionTime": 46,
    "lastExecutedAt": 1754093945972,
    "lastExecutedByKernel": "7203906b-23a7-4456-8a69-97169788e04a",
    "lastScheduledRunId": null,
    "lastSuccessfullyExecutedCode": "nobel[\"is_usa\"] = nobel[\"birth_country\"] == \"United States of America\"\nprint(nobel.head())"
   },
   "outputs": [
    {
     "name": "stdout",
     "output_type": "stream",
     "text": [
      "   year    category  ... decade is_usa\n",
      "0  1901   Chemistry  ...   1900  False\n",
      "1  1901  Literature  ...   1900  False\n",
      "2  1901    Medicine  ...   1900  False\n",
      "3  1901       Peace  ...   1900  False\n",
      "4  1901       Peace  ...   1900  False\n",
      "\n",
      "[5 rows x 20 columns]\n"
     ]
    }
   ],
   "source": [
    "nobel[\"is_usa\"] = nobel[\"birth_country\"] == \"United States of America\"\n",
    "print(nobel.head())"
   ]
  },
  {
   "cell_type": "code",
   "execution_count": 129,
   "id": "908027a7-7b52-4f40-bb62-a7c19009622d",
   "metadata": {
    "executionCancelledAt": null,
    "executionTime": 49,
    "lastExecutedAt": 1754093946021,
    "lastExecutedByKernel": "7203906b-23a7-4456-8a69-97169788e04a",
    "lastScheduledRunId": null,
    "lastSuccessfullyExecutedCode": "usa_decade = nobel.groupby(\"decade\")[\"is_usa\"].mean()\nprint(usa_decade.head())",
    "outputsMetadata": {
     "0": {
      "height": 164,
      "type": "stream"
     }
    }
   },
   "outputs": [
    {
     "name": "stdout",
     "output_type": "stream",
     "text": [
      "decade\n",
      "1900    0.017544\n",
      "1910    0.075000\n",
      "1920    0.074074\n",
      "1930    0.250000\n",
      "1940    0.302326\n",
      "Name: is_usa, dtype: float64\n"
     ]
    }
   ],
   "source": [
    "usa_decade = nobel.groupby(\"decade\")[\"is_usa\"].mean()\n",
    "print(usa_decade.head())"
   ]
  },
  {
   "cell_type": "code",
   "execution_count": 130,
   "id": "6dfc72f4-79c4-4e7b-9da7-e0a5da671975",
   "metadata": {
    "executionCancelledAt": null,
    "executionTime": 48,
    "lastExecutedAt": 1754093946069,
    "lastExecutedByKernel": "7203906b-23a7-4456-8a69-97169788e04a",
    "lastScheduledRunId": null,
    "lastSuccessfullyExecutedCode": "max_decade_usa = int(usa_decade.idxmax())\nprint(max_decade_usa)"
   },
   "outputs": [
    {
     "name": "stdout",
     "output_type": "stream",
     "text": [
      "2000\n"
     ]
    }
   ],
   "source": [
    "max_decade_usa = int(usa_decade.idxmax())\n",
    "print(max_decade_usa)"
   ]
  },
  {
   "cell_type": "code",
   "execution_count": 131,
   "id": "e76c14f2-8f6d-40d4-a83e-786635588369",
   "metadata": {
    "executionCancelledAt": null,
    "executionTime": 67,
    "lastExecutedAt": 1754093946136,
    "lastExecutedByKernel": "7203906b-23a7-4456-8a69-97169788e04a",
    "lastScheduledRunId": null,
    "lastSuccessfullyExecutedCode": "nobel[\"is_female\"] = nobel[\"sex\"] == \"Female\"\nprint(nobel.head())"
   },
   "outputs": [
    {
     "name": "stdout",
     "output_type": "stream",
     "text": [
      "   year    category  ... is_usa is_female\n",
      "0  1901   Chemistry  ...  False     False\n",
      "1  1901  Literature  ...  False     False\n",
      "2  1901    Medicine  ...  False     False\n",
      "3  1901       Peace  ...  False     False\n",
      "4  1901       Peace  ...  False     False\n",
      "\n",
      "[5 rows x 21 columns]\n"
     ]
    }
   ],
   "source": [
    "nobel[\"is_female\"] = nobel[\"sex\"] == \"Female\"\n",
    "print(nobel.head())"
   ]
  },
  {
   "cell_type": "code",
   "execution_count": 132,
   "id": "6d19f31c-8cbb-4ac2-8ca0-5445eb650634",
   "metadata": {
    "executionCancelledAt": null,
    "executionTime": 48,
    "lastExecutedAt": 1754093946184,
    "lastExecutedByKernel": "7203906b-23a7-4456-8a69-97169788e04a",
    "lastScheduledRunId": null,
    "lastSuccessfullyExecutedCode": "female_ratio = nobel.groupby([\"decade\", \"category\"])[\"is_female\"].mean()\nprint(female_ratio.head(10))"
   },
   "outputs": [
    {
     "name": "stdout",
     "output_type": "stream",
     "text": [
      "decade  category  \n",
      "1900    Chemistry     0.000000\n",
      "        Literature    0.100000\n",
      "        Medicine      0.000000\n",
      "        Peace         0.071429\n",
      "        Physics       0.076923\n",
      "1910    Chemistry     0.125000\n",
      "        Literature    0.000000\n",
      "        Medicine      0.000000\n",
      "        Peace         0.000000\n",
      "        Physics       0.000000\n",
      "Name: is_female, dtype: float64\n"
     ]
    }
   ],
   "source": [
    "female_ratio = nobel.groupby([\"decade\", \"category\"])[\"is_female\"].mean()\n",
    "print(female_ratio.head(10))"
   ]
  },
  {
   "cell_type": "code",
   "execution_count": 133,
   "id": "396382d1-36a0-45bb-aa20-df53c5ef5351",
   "metadata": {
    "executionCancelledAt": null,
    "executionTime": 49,
    "lastExecutedAt": 1754093946233,
    "lastExecutedByKernel": "7203906b-23a7-4456-8a69-97169788e04a",
    "lastScheduledRunId": null,
    "lastSuccessfullyExecutedCode": "max_female = female_ratio.idxmax()\nmax_female_dict = {max_female[0]: max_female[1]}\nprint(max_female_dict)"
   },
   "outputs": [
    {
     "name": "stdout",
     "output_type": "stream",
     "text": [
      "{2020: 'Literature'}\n"
     ]
    }
   ],
   "source": [
    "max_female = female_ratio.idxmax()\n",
    "max_female_dict = {max_female[0]: max_female[1]}\n",
    "print(max_female_dict)"
   ]
  },
  {
   "cell_type": "code",
   "execution_count": 134,
   "id": "8358111b-d9ec-4ab8-bf36-50f727b8b66d",
   "metadata": {
    "executionCancelledAt": null,
    "executionTime": 55,
    "lastExecutedAt": 1754093946289,
    "lastExecutedByKernel": "7203906b-23a7-4456-8a69-97169788e04a",
    "lastScheduledRunId": null,
    "lastSuccessfullyExecutedCode": "first_woman = nobel[nobel[\"sex\"] == \"Female\"].sort_values(\"year\").iloc[0]\nfirst_woman_name = first_woman[\"full_name\"]\nfirst_woman_category = first_woman[\"category\"]\nprint(first_woman_name)\nprint(first_woman_category)"
   },
   "outputs": [
    {
     "name": "stdout",
     "output_type": "stream",
     "text": [
      "Marie Curie, née Sklodowska\n",
      "Physics\n"
     ]
    }
   ],
   "source": [
    "first_woman = nobel[nobel[\"sex\"] == \"Female\"].sort_values(\"year\").iloc[0]\n",
    "first_woman_name = first_woman[\"full_name\"]\n",
    "first_woman_category = first_woman[\"category\"]\n",
    "print(first_woman_name)\n",
    "print(first_woman_category)"
   ]
  },
  {
   "cell_type": "code",
   "execution_count": 135,
   "id": "8641c242-317e-43b2-b1e4-8a1337b0726b",
   "metadata": {
    "executionCancelledAt": null,
    "executionTime": 48,
    "lastExecutedAt": 1754093946337,
    "lastExecutedByKernel": "7203906b-23a7-4456-8a69-97169788e04a",
    "lastScheduledRunId": null,
    "lastSuccessfullyExecutedCode": "more_than_once = nobel[\"full_name\"].value_counts()\nrepeat_list = more_than_once[more_than_once > 1].index.tolist()\nprint(repeat_list)",
    "outputsMetadata": {
     "0": {
      "height": 38,
      "type": "stream"
     }
    }
   },
   "outputs": [
    {
     "name": "stdout",
     "output_type": "stream",
     "text": [
      "['Comité international de la Croix Rouge (International Committee of the Red Cross)', 'Linus Carl Pauling', 'John Bardeen', 'Frederick Sanger', 'Marie Curie, née Sklodowska', 'Office of the United Nations High Commissioner for Refugees (UNHCR)']\n"
     ]
    }
   ],
   "source": [
    "more_than_once = nobel[\"full_name\"].value_counts()\n",
    "repeat_list = more_than_once[more_than_once > 1].index.tolist()\n",
    "print(repeat_list)"
   ]
  },
  {
   "cell_type": "code",
   "execution_count": 135,
   "id": "477b8560-f2be-41fe-a741-3d1ec3eb8228",
   "metadata": {
    "executionCancelledAt": null,
    "executionTime": 47,
    "lastExecutedAt": 1754093946384,
    "lastExecutedByKernel": "7203906b-23a7-4456-8a69-97169788e04a",
    "lastScheduledRunId": null,
    "lastSuccessfullyExecutedCode": ""
   },
   "outputs": [],
   "source": []
  }
 ],
 "metadata": {
  "editor": "DataCamp Workspace",
  "kernelspec": {
   "display_name": "Python 3 (ipykernel)",
   "language": "python",
   "name": "python3"
  },
  "language_info": {
   "codemirror_mode": {
    "name": "ipython",
    "version": 3
   },
   "file_extension": ".py",
   "mimetype": "text/x-python",
   "name": "python",
   "nbconvert_exporter": "python",
   "pygments_lexer": "ipython3",
   "version": "3.10.12"
  }
 },
 "nbformat": 4,
 "nbformat_minor": 5
}
