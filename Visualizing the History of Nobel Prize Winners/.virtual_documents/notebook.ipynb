


# Loading in required libraries
import pandas as pd
import seaborn as sns
import numpy as np

# Start coding here!


import pandas as pd
nobel = pd.read_csv('nobel.csv')
nobel.head()


nobel.shape


nobel.columns


single_individuals = nobel[nobel["laureate_type"] == "Individual"]
single_individuals.head(10)


top_gender = single_individuals["sex"].value_counts().idxmax()
print(top_gender)


top_country = nobel["birth_country"].value_counts().idxmax()
print(top_country)


nobel["decade"] = (nobel["year"] // 10) * 10
print(nobel.head())


nobel["is_usa"] = nobel["birth_country"] == "United States of America"
print(nobel.head())


usa_decade = nobel.groupby("decade")["is_usa"].mean()
print(usa_decade.head())


max_decade_usa = int(usa_decade.idxmax())
print(max_decade_usa)


nobel["is_female"] = nobel["sex"] == "Female"
print(nobel.head())


female_ratio = nobel.groupby(["decade", "category"])["is_female"].mean()
print(female_ratio.head(10))


max_female = female_ratio.idxmax()
max_female_dict = {max_female[0]: max_female[1]}
print(max_female_dict)


first_woman = nobel[nobel["sex"] == "Female"].sort_values("year").iloc[0]
first_woman_name = first_woman["full_name"]
first_woman_category = first_woman["category"]
print(first_woman_name)
print(first_woman_category)


more_than_once = nobel["full_name"].value_counts()
repeat_list = more_than_once[more_than_once > 1].index.tolist()
print(repeat_list)



