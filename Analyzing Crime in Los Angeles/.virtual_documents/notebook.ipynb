





# Re-run this cell
# Import required libraries
import pandas as pd
import numpy as np
import matplotlib.pyplot as plt
import seaborn as sns
crimes = pd.read_csv("crimes.csv", dtype={"TIME OCC": str})
crimes.head()


# Start coding here
crimes.dtypes



crimes['Hour'] = crimes['TIME OCC'].str[:2].astype(int)
hour_counts = crimes['Hour'].value_counts()
peak_crime_hour = int(hour_counts.idxmax())
peak_crime_hour


night_crimes = crimes[(crimes['Hour'] >= 22) | (crimes['Hour'] <= 3)]
night_area_counts = night_crimes['AREA NAME'].value_counts()
peak_night_crime_location = night_area_counts.idxmax()
print(peak_night_crime_location)


bins = [0, 17, 25, 34, 44, 54, 64, np.inf]
labels = ["0-17", "18-25", "26-34", "35-44", "45-54", "55-64", "65+"]

crimes['Age Group'] = pd.cut(crimes['Vict Age'], bins=bins, labels=labels, right=True)
victim_ages = crimes['Age Group'].value_counts().sort_index()
print(victim_ages)
